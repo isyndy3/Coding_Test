{
  "nbformat": 4,
  "nbformat_minor": 0,
  "metadata": {
    "colab": {
      "provenance": [],
      "collapsed_sections": [],
      "authorship_tag": "ABX9TyNkyv4Ukd92+UeczXDClYRW"
    },
    "kernelspec": {
      "name": "python3",
      "display_name": "Python 3"
    },
    "language_info": {
      "name": "python"
    }
  },
  "cells": [
    {
      "cell_type": "markdown",
      "source": [
        "혼자 풀기"
      ],
      "metadata": {
        "id": "Zq-rb5ytEZLe"
      }
    },
    {
      "cell_type": "code",
      "execution_count": 38,
      "metadata": {
        "colab": {
          "base_uri": "https://localhost:8080/"
        },
        "id": "Q_KaLWa1EPfe",
        "outputId": "01f4a16c-6965-445b-9905-6417e32a5725"
      },
      "outputs": [
        {
          "name": "stdout",
          "output_type": "stream",
          "text": [
            "5 8 3\n",
            "2 4 5 4 6\n"
          ]
        }
      ],
      "source": [
        "n, m, k = map(int, input().split())\n",
        "num_list = list(map(int, input().split()))\n",
        "\n",
        "num_list = sorted(num_list, reverse = True)\n",
        "\n",
        "sum = 0\n",
        "while m:\n",
        "  if m >= k+1:\n",
        "    sum = sum + (num_list[0]*k) + num_list[1]\n",
        "    m = m-(k+1)\n",
        "  elif m == k:\n",
        "    sum = sum + num_list[0]*k\n",
        "    m = 0\n",
        "  else:\n",
        "    sum = sum + num_list[0]*m\n",
        "    m = 0\n",
        "\n",
        "print(sum)"
      ]
    },
    {
      "cell_type": "markdown",
      "source": [
        "최적화"
      ],
      "metadata": {
        "id": "rcn0_2ver5xg"
      }
    },
    {
      "cell_type": "code",
      "source": [
        "n, m, k = map(int, input().split())\n",
        "num_list = list(map(int, input().split()))\n",
        "\n",
        "num_list.sort(reverse = True)\n",
        "first = num_list[0]\n",
        "second = num_list[1]\n",
        "\n",
        "cnt = (m//(k+1)) * k\n",
        "cnt += m%(k+1)\n",
        "\n",
        "sum = cnt*first\n",
        "sum+= (m-cnt)*second\n",
        "\n",
        "print(sum)"
      ],
      "metadata": {
        "colab": {
          "base_uri": "https://localhost:8080/"
        },
        "id": "Gfqn2yUUpdM3",
        "outputId": "4d6a6f5a-fef8-4ac2-9cc4-44355276ab0d"
      },
      "execution_count": 10,
      "outputs": [
        {
          "output_type": "stream",
          "name": "stdout",
          "text": [
            "5 8 3\n",
            "2 4 5 4 6\n",
            "46\n"
          ]
        }
      ]
    }
  ]
}