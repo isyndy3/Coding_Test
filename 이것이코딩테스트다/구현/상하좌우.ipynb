{
  "nbformat": 4,
  "nbformat_minor": 0,
  "metadata": {
    "colab": {
      "provenance": [],
      "authorship_tag": "ABX9TyPTwsy3ekywG862nnThvMip"
    },
    "kernelspec": {
      "name": "python3",
      "display_name": "Python 3"
    },
    "language_info": {
      "name": "python"
    }
  },
  "cells": [
    {
      "cell_type": "markdown",
      "source": [
        "혼자 풀기"
      ],
      "metadata": {
        "id": "E04ncm_6W51Q"
      }
    },
    {
      "cell_type": "code",
      "execution_count": 5,
      "metadata": {
        "colab": {
          "base_uri": "https://localhost:8080/"
        },
        "id": "vuDV14F3Wxnb",
        "outputId": "fcdb6eeb-7063-4b6b-f994-87ff5d82db06"
      },
      "outputs": [
        {
          "output_type": "stream",
          "name": "stdout",
          "text": [
            "5\n",
            "R R R U D D\n",
            "3 4\n"
          ]
        }
      ],
      "source": [
        "#입력 받기\n",
        "n = int(input())\n",
        "plan = input().split()\n",
        "\n",
        "#시작점 지정\n",
        "point = [1,1]\n",
        "\n",
        "for direct in plan: #계획서의 방향 direct로 전달\n",
        "  \n",
        "  if direct == 'L':\n",
        "    if 1 < point[1] <= n:\n",
        "      point[1] = point[1]-1\n",
        "  \n",
        "  elif direct == 'R':\n",
        "    if 1 <= point[1] < n:\n",
        "      point[1] = point[1]+1\n",
        "  \n",
        "  elif direct == 'U':\n",
        "    if 1 < point[0] <= n:\n",
        "      point[0] = point[0]-1\n",
        "  \n",
        "  elif direct == 'D':\n",
        "    if 1 <= point[0] < n:\n",
        "      point[0] = point[0]+1\n",
        "\n",
        "print(*point)"
      ]
    }
  ]
}