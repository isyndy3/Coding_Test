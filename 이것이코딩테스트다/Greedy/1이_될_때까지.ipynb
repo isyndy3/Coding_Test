{
  "nbformat": 4,
  "nbformat_minor": 0,
  "metadata": {
    "colab": {
      "provenance": [],
      "authorship_tag": "ABX9TyOTdXW9akoVyxSEwO+pFxEE"
    },
    "kernelspec": {
      "name": "python3",
      "display_name": "Python 3"
    },
    "language_info": {
      "name": "python"
    }
  },
  "cells": [
    {
      "cell_type": "markdown",
      "source": [
        "혼자 풀기"
      ],
      "metadata": {
        "id": "DxQGksThY2_7"
      }
    },
    {
      "cell_type": "code",
      "execution_count": 2,
      "metadata": {
        "colab": {
          "base_uri": "https://localhost:8080/"
        },
        "id": "2XlbwrfpXoWl",
        "outputId": "5fe977bc-fad4-4d8e-aed8-4ea9b79b1e6c"
      },
      "outputs": [
        {
          "output_type": "stream",
          "name": "stdout",
          "text": [
            "25 3\n",
            "6\n"
          ]
        }
      ],
      "source": [
        "#입력 받기\n",
        "n, k = map(int, input().split())\n",
        "\n",
        "cnt = 0\n",
        "while n > 1:\n",
        "  if n % k == 0: #n이 k로 나누어지면\n",
        "    n = n // k\n",
        "    cnt += 1\n",
        "\n",
        "  else: #n이 k로 나누어지지 않으면\n",
        "    n -= 1\n",
        "    cnt += 1\n",
        "\n",
        "print(cnt)"
      ]
    }
  ]
}
