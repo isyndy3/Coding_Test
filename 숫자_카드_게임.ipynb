{
  "nbformat": 4,
  "nbformat_minor": 0,
  "metadata": {
    "colab": {
      "provenance": [],
      "authorship_tag": "ABX9TyOzUxZb2s1Z9x1OoYUdzPHt"
    },
    "kernelspec": {
      "name": "python3",
      "display_name": "Python 3"
    },
    "language_info": {
      "name": "python"
    }
  },
  "cells": [
    {
      "cell_type": "markdown",
      "source": [
        "혼자 풀기"
      ],
      "metadata": {
        "id": "EyCMOkJ8JDje"
      }
    },
    {
      "cell_type": "code",
      "execution_count": 7,
      "metadata": {
        "colab": {
          "base_uri": "https://localhost:8080/"
        },
        "id": "1ke1CqUjIKv6",
        "outputId": "8b74f916-4209-40b4-a3de-02368fd34f25"
      },
      "outputs": [
        {
          "output_type": "stream",
          "name": "stdout",
          "text": [
            "2 4\n",
            "7 3 1 8\n",
            "3 3 3 4\n",
            "3\n"
          ]
        }
      ],
      "source": [
        "#입력 받기\n",
        "n, m = map(int, input().split())\n",
        "num_list = []\n",
        "for i in range(n):\n",
        "  num_list.append(list(map(int, input().split())))\n",
        "\n",
        "#각 행에서 가장 작은 값 찾고 그 중에서 가장 큰 값 찾기\n",
        "minimum = []\n",
        "for lis in num_list:\n",
        "  mini_num = min(lis)\n",
        "  minimum.append(mini_num)\n",
        "\n",
        "max_num = max(minimum)\n",
        "\n",
        "print(max_num)"
      ]
    },
    {
      "cell_type": "markdown",
      "source": [
        "최적화"
      ],
      "metadata": {
        "id": "FLCurJ4hRPZH"
      }
    },
    {
      "cell_type": "code",
      "source": [
        "#입력 받기\n",
        "n, m = map(int, input().split())\n",
        "\n",
        "#한줄씩 입력을 받으면서 가장 작은 값 저장\n",
        "result = 0\n",
        "for i in range(n):\n",
        "  num_list = list(map(int, input().split()))\n",
        "  minimum_num = min(num_list)\n",
        "  result = max(result, minimum_num)\n",
        "\n",
        "print(result)"
      ],
      "metadata": {
        "colab": {
          "base_uri": "https://localhost:8080/"
        },
        "id": "SMmqwb__RQN9",
        "outputId": "84cd4f33-9cda-431e-f094-1d1b4e239985"
      },
      "execution_count": 8,
      "outputs": [
        {
          "output_type": "stream",
          "name": "stdout",
          "text": [
            "2 4\n",
            "7 3 1 8\n",
            "3 3 3 4\n",
            "3\n"
          ]
        }
      ]
    }
  ]
}